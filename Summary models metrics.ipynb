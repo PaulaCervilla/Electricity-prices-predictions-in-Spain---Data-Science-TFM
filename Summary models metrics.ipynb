{
 "cells": [
  {
   "cell_type": "markdown",
   "id": "da9516f1",
   "metadata": {},
   "source": [
    "# Summary of models metrics:"
   ]
  },
  {
   "cell_type": "markdown",
   "id": "0493de61",
   "metadata": {},
   "source": [
    "## Using data from May 2013 to December 2020 (not handling outliers)\n",
    "\n",
    "  Model | RMSE | MAE | \n",
    ":--------: | ------- | ------- \n",
    " ARIMA order(10,0,0)| 4.937 | 24.379 |\n",
    " ARIMA order(5,0,5)| 4.869 | 23.711 |\n",
    " \n",
    "#### Vecto Auto Regression (VAR)\n",
    "\n",
    "    RMSE for Energía final MWh is :  68330.92933657496\n",
    "    RMSE for Total €/MWh is :  15.501654751955616\n",
    "    RMSE for Precio cierre Brent is :  19.597178571390945\n",
    "    RMSE for Tmax is :  6.807697248063332\n",
    "    RMSE for Tmin is :  5.416030063878157\n",
    "    RMSE for Vmax is :  4.275937982464527\n",
    "    RMSE for TPrec is :  2.5196038287450877\n",
    "\n"
   ]
  },
  {
   "cell_type": "markdown",
   "id": "2896bdd7",
   "metadata": {},
   "source": [
    "## Using data from May 2013 to September 2021 (not handling outliers)\n",
    "\n",
    "  Model | RMSE | MAE | \n",
    ":--------: | ------- | ------- \n",
    " ARIMA order(10,1,0)| 7.159 | 51.244 |\n",
    " ARIMA order(4,1,5)| 7.165 | 51.334 |\n",
    " \n",
    "#### Vecto Auto Regression (VAR)\n",
    "\n",
    "    RMSE for Energía final MWh is :  65655.85134624332\n",
    "    RMSE for Total €/MWh is :  28.75819558798087\n",
    "    RMSE for Precio cierre Brent is :  14.939099086576629\n",
    "    RMSE for Tmax is :  7.014697856853795\n",
    "    RMSE for Tmin is :  5.448013839681694\n",
    "    RMSE for Vmax is :  3.9194818619431158\n",
    "    RMSE for TPrec is :  2.3016852010118334\n"
   ]
  },
  {
   "cell_type": "markdown",
   "id": "761a023e",
   "metadata": {},
   "source": [
    "## Using data from May 2013 to September 2021 (handling outliers)\n",
    "\n",
    "  Model | RMSE | MAE | \n",
    ":--------: | ------- | ------- \n",
    " ARIMA order(10,0,0)| 8.015 | 64.240 |\n",
    " ARIMA order(5,0,5)| 8.212 | 67.434 |\n",
    " \n",
    "#### Vecto Auto Regression (VAR)\n",
    "\n",
    "    RMSE for Total €/MWh no outliers is :  20.266393736624448\n",
    "    RMSE for Energía final MWh is :  65655.85134624332\n",
    "    RMSE for Precio cierre Brent is :  14.939099086576629\n",
    "    RMSE for Tmax is :  7.014697856853795\n",
    "    RMSE for Tmin is :  5.448013839681694\n",
    "    RMSE for Vmax is :  3.9194818619431158\n",
    "    RMSE for TPrec is :  2.3016852010118334"
   ]
  },
  {
   "cell_type": "markdown",
   "id": "2b9b7bff",
   "metadata": {},
   "source": [
    "## Summary:\n",
    "\n",
    "Looking at the RMSE and MAE metrics of the ARIMA models, the scenario where I handled outliers is the one performing the worst. This is also confirmed by the difference versus reality of the predictions.\n",
    "\n",
    "Looking at both scenarios where I did not do anything with the outliers values in the electricity prices (using data until the end of 2020 and using data until the end of September 2021) the metrics are better if I only use data until the end of 2020 but I think it is more interesting if I focus on the dataset including until September 2021, because data is more up to date and the latest changes in the market are reflected.\n",
    "\n",
    "The metrics in those models shows that ARIMA can predict with an error of a bit more of 7 euros in the test set and the Mean Absoulute Error is around 51.\n",
    "\n",
    "In the VAR model, where 7 features were predicted, the RMSE of the electricity price is higher but still, I think predictions are not bad bearing in mind that it was almost impossible to predict the huge price increase seen in the market.\n"
   ]
  }
 ],
 "metadata": {
  "kernelspec": {
   "display_name": "Python 3 (ipykernel)",
   "language": "python",
   "name": "python3"
  },
  "language_info": {
   "codemirror_mode": {
    "name": "ipython",
    "version": 3
   },
   "file_extension": ".py",
   "mimetype": "text/x-python",
   "name": "python",
   "nbconvert_exporter": "python",
   "pygments_lexer": "ipython3",
   "version": "3.9.7"
  }
 },
 "nbformat": 4,
 "nbformat_minor": 5
}

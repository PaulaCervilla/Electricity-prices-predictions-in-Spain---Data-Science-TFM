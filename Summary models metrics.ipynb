{
 "cells": [
  {
   "cell_type": "markdown",
   "metadata": {},
   "source": [
    "# Summary of models metrics:"
   ]
  },
  {
   "cell_type": "markdown",
   "metadata": {},
   "source": [
    "## Using data from May 2013 to December 2020 (not handling outliers)\n",
    "\n",
    "  Model | RMSE | MAE | \n",
    ":--------: | ------- | ------- \n",
    " ARIMA order(10,0,0)| 4.937 | 24.379 |\n",
    " ARIMA order(5,0,5)| 4.869 | 23.711 |\n",
    " \n",
    "#### Vector Auto Regression (VAR)\n",
    "\n",
    "    RMSE for Energía final MWh is:  66764.76196317935\n",
    "    RMSE for Total €/MWh is:  20.186654182406706\n",
    "    RMSE for Precio cierre Brent is:  15.333997186857786\n",
    "    RMSE for Tmax is:  7.244981541580475\n",
    "    RMSE for Tmin is:  6.198003004311556\n",
    "    RMSE for Vmax is:  4.300971280784131\n"
   ]
  },
  {
   "cell_type": "markdown",
   "metadata": {},
   "source": [
    "## Using data from May 2013 to September 2021 (not handling outliers)\n",
    "\n",
    "  Model | RMSE | MAE | \n",
    ":--------: | ------- | ------- \n",
    " ARIMA order(10,1,0)| 7.159 | 51.244 |\n",
    " ARIMA order(4,1,5)| 7.165 | 51.334 |\n",
    " \n",
    "#### Vector Auto Regression (VAR)\n",
    "\n",
    "    RMSE for Energía final MWh is:  63678.52661612076\n",
    "    RMSE for Total €/MWh is:  28.51063205431824\n",
    "    RMSE for Precio cierre Brent is:  15.275091322705478\n",
    "    RMSE for Tmax is:  6.938400347597775\n",
    "    RMSE for Tmin is:  5.357396241508126\n",
    "    RMSE for Vmax is:  3.961423343755028\n",
    "    \n"
   ]
  },
  {
   "cell_type": "markdown",
   "metadata": {},
   "source": [
    "## Using data from May 2013 to September 2021 (handling outliers)\n",
    "\n",
    "  Model | RMSE | MAE | \n",
    ":--------: | ------- | ------- \n",
    " ARIMA order(10,0,0)| 8.015 | 64.240 |\n",
    " ARIMA order(5,0,5)| 8.212 | 67.434 |\n",
    " \n",
    "#### Vector Auto Regression (VAR)\n",
    "\n",
    "    RMSE for Total €/MWh no outliers is:  19.96566724786186\n",
    "    RMSE for Energía final MWh is:  63678.52661612076\n",
    "    RMSE for Precio cierre Brent is:  15.275091322705478\n",
    "    RMSE for Tmax is:  6.938400347597775\n",
    "    RMSE for Tmin is:  5.357396241508126\n",
    "    RMSE for Vmax is:  3.961423343755028"
   ]
  },
  {
   "cell_type": "markdown",
   "metadata": {},
   "source": [
    "## Summary:\n",
    "\n",
    "Looking at the RMSE and MAE metrics of the ARIMA models, the scenario where I handled outliers is the one performing the worst. This is also confirmed by the difference versus reality of the predictions.\n",
    "\n",
    "Looking at both scenarios where I did not do anything with the outliers values in the electricity prices (using data until the end of 2020 and using data until the end of September 2021) the metrics are better if I only use data until the end of 2020 but I think it is more interesting if I focus on the dataset including until September 2021, because data is more up to date and the latest changes in the market are reflected.\n",
    "\n",
    "The metrics in those models show that ARIMA can predict with an error of a bit more of 7 euros in the test set and the Mean Absolute Error is around 51.\n",
    "\n",
    "In the VAR model, where 6 features were predicted, the RMSE of the electricity price is higher but still, I think predictions are not bad bearing in mind that it was almost impossible to predict the huge price increase seen in the market.\n"
   ]
  }
 ],
 "metadata": {
  "kernelspec": {
   "display_name": "Python 3",
   "language": "python",
   "name": "python3"
  },
  "language_info": {
   "codemirror_mode": {
    "name": "ipython",
    "version": 3
   },
   "file_extension": ".py",
   "mimetype": "text/x-python",
   "name": "python",
   "nbconvert_exporter": "python",
   "pygments_lexer": "ipython3",
   "version": "3.8.5"
  }
 },
 "nbformat": 4,
 "nbformat_minor": 5
}
